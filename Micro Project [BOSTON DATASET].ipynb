{
 "cells": [
  {
   "cell_type": "markdown",
   "metadata": {},
   "source": [
    "# Micro Project"
   ]
  },
  {
   "cell_type": "code",
   "execution_count": 1,
   "metadata": {},
   "outputs": [],
   "source": [
    "\n",
    "# Predict the price of a house with high confidence(95% confidence)\n",
    "# adjust for price inflation by multiplying the values by 30\n",
    "# The house should have 4 rooms, \n",
    "# the Area where the house is located should have a school with PT ratio 10\n",
    "# The house should be near the Charles river\n",
    "# inputs must be given from the KB\n",
    "# negative rooms  and zero rooms...not allowed\n",
    "# same with PT ratio.....\n",
    "# Charles river.....Choice (Yes/no)...set yes = 1 and no = 0\n",
    "\n",
    "\n",
    "\n",
    "# Date of discussion tentatively on the 3rd September 2020.\n",
    "# please dont send me codes....\n",
    "# please dont ask me doubts before the 3rd September 2020"
   ]
  },
  {
   "cell_type": "markdown",
   "metadata": {},
   "source": [
    "## Importing Libraries"
   ]
  },
  {
   "cell_type": "code",
   "execution_count": 2,
   "metadata": {},
   "outputs": [],
   "source": [
    "import numpy as np\n",
    "import pandas as pd\n",
    "import matplotlib.pyplot as plt\n",
    "import seaborn as sns\n",
    "from sklearn.metrics import r2_score\n",
    "from sklearn.linear_model import LinearRegression\n",
    "from sklearn.model_selection import train_test_split\n",
    "from sklearn.datasets import load_boston\n",
    "import statsmodels.api as sm\n",
    "from statsmodels.stats.outliers_influence import variance_inflation_factor"
   ]
  },
  {
   "cell_type": "markdown",
   "metadata": {},
   "source": [
    "## Importing Dataset"
   ]
  },
  {
   "cell_type": "code",
   "execution_count": 3,
   "metadata": {},
   "outputs": [
    {
     "data": {
      "text/html": [
       "<div>\n",
       "<style scoped>\n",
       "    .dataframe tbody tr th:only-of-type {\n",
       "        vertical-align: middle;\n",
       "    }\n",
       "\n",
       "    .dataframe tbody tr th {\n",
       "        vertical-align: top;\n",
       "    }\n",
       "\n",
       "    .dataframe thead th {\n",
       "        text-align: right;\n",
       "    }\n",
       "</style>\n",
       "<table border=\"1\" class=\"dataframe\">\n",
       "  <thead>\n",
       "    <tr style=\"text-align: right;\">\n",
       "      <th></th>\n",
       "      <th>CRIM</th>\n",
       "      <th>ZN</th>\n",
       "      <th>INDUS</th>\n",
       "      <th>CHAS</th>\n",
       "      <th>NOX</th>\n",
       "      <th>RM</th>\n",
       "      <th>AGE</th>\n",
       "      <th>DIS</th>\n",
       "      <th>RAD</th>\n",
       "      <th>TAX</th>\n",
       "      <th>PTRATIO</th>\n",
       "      <th>B</th>\n",
       "      <th>LSTAT</th>\n",
       "      <th>PRICE</th>\n",
       "    </tr>\n",
       "  </thead>\n",
       "  <tbody>\n",
       "    <tr>\n",
       "      <th>0</th>\n",
       "      <td>0.00632</td>\n",
       "      <td>18.0</td>\n",
       "      <td>2.31</td>\n",
       "      <td>0.0</td>\n",
       "      <td>0.538</td>\n",
       "      <td>6.575</td>\n",
       "      <td>65.2</td>\n",
       "      <td>4.0900</td>\n",
       "      <td>1.0</td>\n",
       "      <td>296.0</td>\n",
       "      <td>15.3</td>\n",
       "      <td>396.90</td>\n",
       "      <td>4.98</td>\n",
       "      <td>24.0</td>\n",
       "    </tr>\n",
       "    <tr>\n",
       "      <th>1</th>\n",
       "      <td>0.02731</td>\n",
       "      <td>0.0</td>\n",
       "      <td>7.07</td>\n",
       "      <td>0.0</td>\n",
       "      <td>0.469</td>\n",
       "      <td>6.421</td>\n",
       "      <td>78.9</td>\n",
       "      <td>4.9671</td>\n",
       "      <td>2.0</td>\n",
       "      <td>242.0</td>\n",
       "      <td>17.8</td>\n",
       "      <td>396.90</td>\n",
       "      <td>9.14</td>\n",
       "      <td>21.6</td>\n",
       "    </tr>\n",
       "    <tr>\n",
       "      <th>2</th>\n",
       "      <td>0.02729</td>\n",
       "      <td>0.0</td>\n",
       "      <td>7.07</td>\n",
       "      <td>0.0</td>\n",
       "      <td>0.469</td>\n",
       "      <td>7.185</td>\n",
       "      <td>61.1</td>\n",
       "      <td>4.9671</td>\n",
       "      <td>2.0</td>\n",
       "      <td>242.0</td>\n",
       "      <td>17.8</td>\n",
       "      <td>392.83</td>\n",
       "      <td>4.03</td>\n",
       "      <td>34.7</td>\n",
       "    </tr>\n",
       "    <tr>\n",
       "      <th>3</th>\n",
       "      <td>0.03237</td>\n",
       "      <td>0.0</td>\n",
       "      <td>2.18</td>\n",
       "      <td>0.0</td>\n",
       "      <td>0.458</td>\n",
       "      <td>6.998</td>\n",
       "      <td>45.8</td>\n",
       "      <td>6.0622</td>\n",
       "      <td>3.0</td>\n",
       "      <td>222.0</td>\n",
       "      <td>18.7</td>\n",
       "      <td>394.63</td>\n",
       "      <td>2.94</td>\n",
       "      <td>33.4</td>\n",
       "    </tr>\n",
       "    <tr>\n",
       "      <th>4</th>\n",
       "      <td>0.06905</td>\n",
       "      <td>0.0</td>\n",
       "      <td>2.18</td>\n",
       "      <td>0.0</td>\n",
       "      <td>0.458</td>\n",
       "      <td>7.147</td>\n",
       "      <td>54.2</td>\n",
       "      <td>6.0622</td>\n",
       "      <td>3.0</td>\n",
       "      <td>222.0</td>\n",
       "      <td>18.7</td>\n",
       "      <td>396.90</td>\n",
       "      <td>5.33</td>\n",
       "      <td>36.2</td>\n",
       "    </tr>\n",
       "  </tbody>\n",
       "</table>\n",
       "</div>"
      ],
      "text/plain": [
       "      CRIM    ZN  INDUS  CHAS    NOX     RM   AGE     DIS  RAD    TAX  \\\n",
       "0  0.00632  18.0   2.31   0.0  0.538  6.575  65.2  4.0900  1.0  296.0   \n",
       "1  0.02731   0.0   7.07   0.0  0.469  6.421  78.9  4.9671  2.0  242.0   \n",
       "2  0.02729   0.0   7.07   0.0  0.469  7.185  61.1  4.9671  2.0  242.0   \n",
       "3  0.03237   0.0   2.18   0.0  0.458  6.998  45.8  6.0622  3.0  222.0   \n",
       "4  0.06905   0.0   2.18   0.0  0.458  7.147  54.2  6.0622  3.0  222.0   \n",
       "\n",
       "   PTRATIO       B  LSTAT  PRICE  \n",
       "0     15.3  396.90   4.98   24.0  \n",
       "1     17.8  396.90   9.14   21.6  \n",
       "2     17.8  392.83   4.03   34.7  \n",
       "3     18.7  394.63   2.94   33.4  \n",
       "4     18.7  396.90   5.33   36.2  "
      ]
     },
     "execution_count": 3,
     "metadata": {},
     "output_type": "execute_result"
    }
   ],
   "source": [
    "boston_dataset = load_boston()\n",
    "data = pd.DataFrame(data= boston_dataset.data, columns= boston_dataset.feature_names)\n",
    "data['PRICE'] = boston_dataset.target\n",
    "data.head()"
   ]
  },
  {
   "cell_type": "code",
   "execution_count": 4,
   "metadata": {},
   "outputs": [
    {
     "name": "stdout",
     "output_type": "stream",
     "text": [
      "\n",
      "No.Of Entries in DataFrame : 506\n"
     ]
    }
   ],
   "source": [
    "print('\\nNo.Of Entries in DataFrame :', data.shape[0])"
   ]
  },
  {
   "cell_type": "markdown",
   "metadata": {},
   "source": [
    "## Data Normalisation & Splitting"
   ]
  },
  {
   "cell_type": "code",
   "execution_count": 5,
   "metadata": {},
   "outputs": [],
   "source": [
    "features = data.drop(['PRICE'], axis=1)\n",
    "\n",
    "prices_log = np.log(data['PRICE'])"
   ]
  },
  {
   "cell_type": "code",
   "execution_count": 6,
   "metadata": {},
   "outputs": [],
   "source": [
    "X_train, X_test, y_train, y_test = train_test_split(features, prices_log, test_size= 0.20, random_state= 42)"
   ]
  },
  {
   "cell_type": "markdown",
   "metadata": {},
   "source": [
    "## Linear Regression"
   ]
  },
  {
   "cell_type": "code",
   "execution_count": 7,
   "metadata": {},
   "outputs": [
    {
     "name": "stdout",
     "output_type": "stream",
     "text": [
      "             Coef\n",
      "CRIM    -0.009679\n",
      "ZN       0.000757\n",
      "INDUS    0.003057\n",
      "CHAS     0.096207\n",
      "NOX     -0.727261\n",
      "RM       0.113095\n",
      "AGE     -0.000139\n",
      "DIS     -0.048944\n",
      "RAD      0.011139\n",
      "TAX     -0.000505\n",
      "PTRATIO -0.036989\n",
      "B        0.000579\n",
      "LSTAT   -0.028321\n",
      "\n",
      "Intercepct 3.840920309917581\n",
      "\n",
      "Train_Score(X_train, y_train) : 0.795714923175866\n"
     ]
    }
   ],
   "source": [
    "regr = LinearRegression()\n",
    "regr.fit(X_train, y_train)\n",
    "\n",
    "Coef = pd.DataFrame(index= X_train.columns, data= regr.coef_, columns= ['Coef'])\n",
    "print(Coef)\n",
    "\n",
    "print('\\nIntercepct', regr.intercept_)\n",
    "print('\\nTrain_Score(X_train, y_train) :', regr.score(X_train, y_train))"
   ]
  },
  {
   "cell_type": "markdown",
   "metadata": {},
   "source": [
    "## Prediction"
   ]
  },
  {
   "cell_type": "code",
   "execution_count": 8,
   "metadata": {},
   "outputs": [
    {
     "name": "stdout",
     "output_type": "stream",
     "text": [
      "\n",
      "Test_Score(y_test,y_hat) : 0.7462724975382733\n"
     ]
    }
   ],
   "source": [
    "y_hat = regr.predict(X_test)\n",
    "\n",
    "print('\\nTest_Score(y_test,y_hat) :',r2_score(y_test, y_hat))"
   ]
  },
  {
   "cell_type": "markdown",
   "metadata": {},
   "source": [
    "## Stats Model API......................................"
   ]
  },
  {
   "cell_type": "code",
   "execution_count": 9,
   "metadata": {},
   "outputs": [
    {
     "name": "stdout",
     "output_type": "stream",
     "text": [
      "\n",
      "Summary of Model_1 >>>>\n",
      "                             OLS Regression Results                            \n",
      "==============================================================================\n",
      "Dep. Variable:                  PRICE   R-squared:                       0.796\n",
      "Model:                            OLS   Adj. R-squared:                  0.789\n",
      "Method:                 Least Squares   F-statistic:                     116.9\n",
      "Date:                Wed, 04 Nov 2020   Prob (F-statistic):          1.35e-125\n",
      "Time:                        09:50:12   Log-Likelihood:                 106.78\n",
      "No. Observations:                 404   AIC:                            -185.6\n",
      "Df Residuals:                     390   BIC:                            -129.5\n",
      "Df Model:                          13                                         \n",
      "Covariance Type:            nonrobust                                         \n",
      "==============================================================================\n",
      "                 coef    std err          t      P>|t|      [0.025      0.975]\n",
      "------------------------------------------------------------------------------\n",
      "const          3.8409      0.227     16.943      0.000       3.395       4.287\n",
      "CRIM          -0.0097      0.001     -6.968      0.000      -0.012      -0.007\n",
      "ZN             0.0008      0.001      1.184      0.237      -0.000       0.002\n",
      "INDUS          0.0031      0.003      1.136      0.256      -0.002       0.008\n",
      "CHAS           0.0962      0.038      2.521      0.012       0.021       0.171\n",
      "NOX           -0.7273      0.169     -4.299      0.000      -1.060      -0.395\n",
      "RM             0.1131      0.019      6.104      0.000       0.077       0.150\n",
      "AGE           -0.0001      0.001     -0.238      0.812      -0.001       0.001\n",
      "DIS           -0.0489      0.009     -5.424      0.000      -0.067      -0.031\n",
      "RAD            0.0111      0.003      3.671      0.000       0.005       0.017\n",
      "TAX           -0.0005      0.000     -2.979      0.003      -0.001      -0.000\n",
      "PTRATIO       -0.0370      0.006     -6.433      0.000      -0.048      -0.026\n",
      "B              0.0006      0.000      4.893      0.000       0.000       0.001\n",
      "LSTAT         -0.0283      0.002    -12.736      0.000      -0.033      -0.024\n",
      "==============================================================================\n",
      "Omnibus:                       38.314   Durbin-Watson:                   2.139\n",
      "Prob(Omnibus):                  0.000   Jarque-Bera (JB):              150.470\n",
      "Skew:                           0.283   Prob(JB):                     2.12e-33\n",
      "Kurtosis:                       5.936   Cond. No.                     1.49e+04\n",
      "==============================================================================\n",
      "\n",
      "Warnings:\n",
      "[1] Standard Errors assume that the covariance matrix of the errors is correctly specified.\n",
      "[2] The condition number is large, 1.49e+04. This might indicate that there are\n",
      "strong multicollinearity or other numerical problems.\n"
     ]
    }
   ],
   "source": [
    "X_incl_const_1 = sm.add_constant(X_train)\n",
    "\n",
    "model_1 = sm.OLS(y_train, X_incl_const_1)\n",
    "results_1 = model_1.fit()\n",
    "\n",
    "print('\\nSummary of Model_1 >>>>\\n', results_1.summary())"
   ]
  },
  {
   "cell_type": "code",
   "execution_count": 10,
   "metadata": {},
   "outputs": [
    {
     "name": "stdout",
     "output_type": "stream",
     "text": [
      "\n",
      "VIF_1\n",
      " [580.7472632659341, 1.7131869906128505, 2.465630718663123, 3.8778553502602815, 1.0966737120634569, 4.469150159170631, 1.9478087495837588, 2.9899478376482787, 4.16857837354429, 7.658315779148442, 8.943301431814218, 1.851448407067042, 1.3251213980906684, 2.818045379538575]\n"
     ]
    }
   ],
   "source": [
    "vif_1 = [] #empty list                         # Variance Inflation Factor\n",
    "\n",
    "for i in range (X_incl_const_1.shape[1]):\n",
    "    \n",
    "    vif_1.append(variance_inflation_factor(exog= X_incl_const_1.values, exog_idx=i))\n",
    "\n",
    "print('\\nVIF_1\\n', vif_1)"
   ]
  },
  {
   "cell_type": "markdown",
   "metadata": {},
   "source": [
    "### Creating Model_2 by Dropping Features from Model_1 Using P_values>0.05"
   ]
  },
  {
   "cell_type": "code",
   "execution_count": 11,
   "metadata": {},
   "outputs": [
    {
     "name": "stdout",
     "output_type": "stream",
     "text": [
      "\n",
      "Summary of Model_2 >>>>\n",
      "                             OLS Regression Results                            \n",
      "==============================================================================\n",
      "Dep. Variable:                  PRICE   R-squared:                       0.794\n",
      "Model:                            OLS   Adj. R-squared:                  0.789\n",
      "Method:                 Least Squares   F-statistic:                     151.9\n",
      "Date:                Wed, 04 Nov 2020   Prob (F-statistic):          2.66e-128\n",
      "Time:                        09:50:12   Log-Likelihood:                 105.49\n",
      "No. Observations:                 404   AIC:                            -189.0\n",
      "Df Residuals:                     393   BIC:                            -145.0\n",
      "Df Model:                          10                                         \n",
      "Covariance Type:            nonrobust                                         \n",
      "==============================================================================\n",
      "                 coef    std err          t      P>|t|      [0.025      0.975]\n",
      "------------------------------------------------------------------------------\n",
      "const          3.8528      0.226     17.070      0.000       3.409       4.297\n",
      "CRIM          -0.0096      0.001     -6.941      0.000      -0.012      -0.007\n",
      "CHAS           0.1014      0.038      2.676      0.008       0.027       0.176\n",
      "NOX           -0.7069      0.156     -4.536      0.000      -1.013      -0.401\n",
      "RM             0.1118      0.018      6.271      0.000       0.077       0.147\n",
      "DIS           -0.0454      0.007     -6.347      0.000      -0.059      -0.031\n",
      "RAD            0.0100      0.003      3.427      0.001       0.004       0.016\n",
      "TAX           -0.0004      0.000     -2.567      0.011      -0.001   -9.05e-05\n",
      "PTRATIO       -0.0388      0.005     -7.334      0.000      -0.049      -0.028\n",
      "B              0.0006      0.000      4.852      0.000       0.000       0.001\n",
      "LSTAT         -0.0282      0.002    -13.352      0.000      -0.032      -0.024\n",
      "==============================================================================\n",
      "Omnibus:                       37.812   Durbin-Watson:                   2.144\n",
      "Prob(Omnibus):                  0.000   Jarque-Bera (JB):              144.908\n",
      "Skew:                           0.286   Prob(JB):                     3.42e-32\n",
      "Kurtosis:                       5.878   Cond. No.                     1.45e+04\n",
      "==============================================================================\n",
      "\n",
      "Warnings:\n",
      "[1] Standard Errors assume that the covariance matrix of the errors is correctly specified.\n",
      "[2] The condition number is large, 1.45e+04. This might indicate that there are\n",
      "strong multicollinearity or other numerical problems.\n"
     ]
    }
   ],
   "source": [
    "X_incl_const_2 = sm.add_constant(X_train)\n",
    "\n",
    "P_values = round(results_1.pvalues, 3)\n",
    "\n",
    "for i in range(P_values.shape[0]):\n",
    "    if(P_values[i]>0.05):\n",
    "        \n",
    "        X_incl_const_2.drop([P_values.index[i]], axis=1, inplace=True)\n",
    "\n",
    "model_2 = sm.OLS(y_train, X_incl_const_2)\n",
    "results_2 = model_2.fit()\n",
    "\n",
    "print('\\nSummary of Model_2 >>>>\\n', results_2.summary())"
   ]
  },
  {
   "cell_type": "code",
   "execution_count": 12,
   "metadata": {},
   "outputs": [
    {
     "name": "stdout",
     "output_type": "stream",
     "text": [
      "\n",
      "VIF_2\n",
      " [576.4258577750066, 1.6995063324698798, 1.0833550411756299, 3.7973870197322683, 1.8066696516255718, 2.619209863656011, 7.090392330230745, 7.078572054426567, 1.5665696655442751, 1.3186011284107795, 2.551020818165935]\n"
     ]
    }
   ],
   "source": [
    "vif_2 = [] #empty list                          # Variance Inflation Factor\n",
    "\n",
    "for i in range (X_incl_const_2.shape[1]):\n",
    "    \n",
    "    vif_2.append(variance_inflation_factor(exog= X_incl_const_2.values, exog_idx=i))\n",
    "\n",
    "print('\\nVIF_2\\n',vif_2)"
   ]
  },
  {
   "cell_type": "markdown",
   "metadata": {},
   "source": [
    "### Creating Model_3 by Dropping Features from Model_2 Using VIF>10"
   ]
  },
  {
   "cell_type": "code",
   "execution_count": 13,
   "metadata": {},
   "outputs": [],
   "source": [
    "for i in range(X_incl_const_2.shape[1]):\n",
    "    if(vif_2[i]>10):\n",
    "        \n",
    "        X_incl_const_2.drop([X_incl_const_2.columns[i]], axis=1, inplace=True)"
   ]
  },
  {
   "cell_type": "code",
   "execution_count": 14,
   "metadata": {},
   "outputs": [
    {
     "name": "stdout",
     "output_type": "stream",
     "text": [
      "\n",
      "Summary of Model_3 >>>>\n",
      "                             OLS Regression Results                            \n",
      "==============================================================================\n",
      "Dep. Variable:                  PRICE   R-squared:                       0.794\n",
      "Model:                            OLS   Adj. R-squared:                  0.789\n",
      "Method:                 Least Squares   F-statistic:                     151.9\n",
      "Date:                Wed, 04 Nov 2020   Prob (F-statistic):          2.66e-128\n",
      "Time:                        09:50:12   Log-Likelihood:                 105.49\n",
      "No. Observations:                 404   AIC:                            -189.0\n",
      "Df Residuals:                     393   BIC:                            -145.0\n",
      "Df Model:                          10                                         \n",
      "Covariance Type:            nonrobust                                         \n",
      "==============================================================================\n",
      "                 coef    std err          t      P>|t|      [0.025      0.975]\n",
      "------------------------------------------------------------------------------\n",
      "const          3.8528      0.226     17.070      0.000       3.409       4.297\n",
      "CRIM          -0.0096      0.001     -6.941      0.000      -0.012      -0.007\n",
      "CHAS           0.1014      0.038      2.676      0.008       0.027       0.176\n",
      "NOX           -0.7069      0.156     -4.536      0.000      -1.013      -0.401\n",
      "RM             0.1118      0.018      6.271      0.000       0.077       0.147\n",
      "DIS           -0.0454      0.007     -6.347      0.000      -0.059      -0.031\n",
      "RAD            0.0100      0.003      3.427      0.001       0.004       0.016\n",
      "TAX           -0.0004      0.000     -2.567      0.011      -0.001   -9.05e-05\n",
      "PTRATIO       -0.0388      0.005     -7.334      0.000      -0.049      -0.028\n",
      "B              0.0006      0.000      4.852      0.000       0.000       0.001\n",
      "LSTAT         -0.0282      0.002    -13.352      0.000      -0.032      -0.024\n",
      "==============================================================================\n",
      "Omnibus:                       37.812   Durbin-Watson:                   2.144\n",
      "Prob(Omnibus):                  0.000   Jarque-Bera (JB):              144.908\n",
      "Skew:                           0.286   Prob(JB):                     3.42e-32\n",
      "Kurtosis:                       5.878   Cond. No.                     1.45e+04\n",
      "==============================================================================\n",
      "\n",
      "Warnings:\n",
      "[1] Standard Errors assume that the covariance matrix of the errors is correctly specified.\n",
      "[2] The condition number is large, 1.45e+04. This might indicate that there are\n",
      "strong multicollinearity or other numerical problems.\n"
     ]
    }
   ],
   "source": [
    "X_incl_const_3 = sm.add_constant(X_incl_const_2)\n",
    "\n",
    "model_3 = sm.OLS(y_train, X_incl_const_3)\n",
    "results_3 = model_3.fit()\n",
    "\n",
    "print('\\nSummary of Model_3 >>>>\\n', results_3.summary())"
   ]
  },
  {
   "cell_type": "code",
   "execution_count": 15,
   "metadata": {},
   "outputs": [
    {
     "name": "stdout",
     "output_type": "stream",
     "text": [
      "\n",
      "VIF_3\n",
      " [576.4258577750066, 1.6995063324698798, 1.0833550411756299, 3.7973870197322683, 1.8066696516255718, 2.619209863656011, 7.090392330230745, 7.078572054426567, 1.5665696655442751, 1.3186011284107795, 2.551020818165935]\n"
     ]
    }
   ],
   "source": [
    "vif_3=[] #empty list                            # Variance Inflation Factor\n",
    "\n",
    "for i in range (X_incl_const_3.shape[1]):\n",
    "    \n",
    "    vif_3.append(variance_inflation_factor(exog= X_incl_const_3.values, exog_idx=i))\n",
    "\n",
    "print('\\nVIF_3\\n',vif_3)"
   ]
  },
  {
   "cell_type": "markdown",
   "metadata": {},
   "source": [
    "## Prediction Using Optimized Model \"Model_3\""
   ]
  },
  {
   "cell_type": "code",
   "execution_count": 16,
   "metadata": {},
   "outputs": [
    {
     "name": "stdout",
     "output_type": "stream",
     "text": [
      "\n",
      "Optimised_Test_Score(y_test, Pred_y_test) : 0.7430764959352337\n"
     ]
    }
   ],
   "source": [
    "X_test = X_test[X_incl_const_2.columns]    ## Re-modelling the Data for Using in Model_3\n",
    "\n",
    "Pred_y_test = results_3.predict( sm.add_constant(X_test))\n",
    "\n",
    "print('\\nOptimised_Test_Score(y_test, Pred_y_test) :', r2_score(y_test, Pred_y_test))"
   ]
  },
  {
   "cell_type": "markdown",
   "metadata": {},
   "source": [
    "## Getting Required Data\n",
    "### Please Enter Requirements For Below Cell Outputs"
   ]
  },
  {
   "cell_type": "code",
   "execution_count": 17,
   "metadata": {},
   "outputs": [
    {
     "name": "stdout",
     "output_type": "stream",
     "text": [
      "\n",
      "enter required PT_RATIO :10\n",
      "\n",
      "enter required no.of Rooms :4\n",
      "\n",
      "Do Tract should bound Charle's River ? [yes/no] : yes\n"
     ]
    }
   ],
   "source": [
    "PT_ratio = round(float(input('\\nenter required PT_RATIO :')),1)\n",
    "Rooms    = round(float(input('\\nenter required no.of Rooms :')),3)\n",
    "Chas    = input('\\nDo Tract should bound Charle\\'s River ? [yes/no] : ')\n",
    "\n",
    "if(Chas=='yes'):\n",
    "    chas=1.0    \n",
    "elif(Chas=='no'):\n",
    "    chas=0.0  \n",
    "else:\n",
    "    print('\\ndata has both \\'yes\\' and \\'no\\' for CHAS')\n",
    "    chas=data['CHAS']"
   ]
  },
  {
   "cell_type": "markdown",
   "metadata": {},
   "source": [
    "### Using the Mean Values for Other Features"
   ]
  },
  {
   "cell_type": "code",
   "execution_count": 18,
   "metadata": {},
   "outputs": [],
   "source": [
    "data_3=X_incl_const_3\n",
    "X_new=[] # empty list\n",
    "for i in range (data_3.shape[1]):\n",
    "    if(data_3.columns[i]=='PTRATIO'):\n",
    "        X_new.append(PT_ratio)\n",
    "    elif(data_3.columns[i]=='RM'):\n",
    "        X_new.append(Rooms)\n",
    "    elif(data_3.columns[i]=='CHAS'):\n",
    "        X_new.append(chas)\n",
    "    else:\n",
    "        X_new.append(data_3[data_3.columns[i]].mean())"
   ]
  },
  {
   "cell_type": "markdown",
   "metadata": {},
   "source": [
    "### Predicting Your Output"
   ]
  },
  {
   "cell_type": "code",
   "execution_count": 19,
   "metadata": {},
   "outputs": [
    {
     "name": "stdout",
     "output_type": "stream",
     "text": [
      "\n",
      "Point Predicted Price for Your Requirements : $738021.91\n"
     ]
    }
   ],
   "source": [
    "Predicted_Log_Price = results_3.predict(X_new)[0]\n",
    "\n",
    "print(f'\\nPoint Predicted Price for Your Requirements : ${round((30000*np.e**Predicted_Log_Price),3)}')"
   ]
  },
  {
   "cell_type": "markdown",
   "metadata": {},
   "source": [
    "### Prediction With High Confidence Interval \"95%\""
   ]
  },
  {
   "cell_type": "code",
   "execution_count": 20,
   "metadata": {},
   "outputs": [
    {
     "name": "stdout",
     "output_type": "stream",
     "text": [
      "\n",
      "For Your Requirements Price of a House Ranges From : $505759.611 To : $1076947.088\n"
     ]
    }
   ],
   "source": [
    "upper_bound = 30000*np.e**(Predicted_Log_Price + 2*np.sqrt(results_3.mse_resid))\n",
    "lower_bound = 30000*np.e**(Predicted_Log_Price - 2*np.sqrt(results_3.mse_resid))\n",
    "\n",
    "#print('\\nRMSE of Model_3 :',round(np.sqrt(results_3.mse_resid),3))\n",
    "\n",
    "print(f'\\nFor Your Requirements Price of a House Ranges From : ${round(lower_bound,3)} To : ${round(upper_bound,3)}')"
   ]
  },
  {
   "cell_type": "code",
   "execution_count": null,
   "metadata": {},
   "outputs": [],
   "source": []
  }
 ],
 "metadata": {
  "kernelspec": {
   "display_name": "Python 3",
   "language": "python",
   "name": "python3"
  },
  "language_info": {
   "codemirror_mode": {
    "name": "ipython",
    "version": 3
   },
   "file_extension": ".py",
   "mimetype": "text/x-python",
   "name": "python",
   "nbconvert_exporter": "python",
   "pygments_lexer": "ipython3",
   "version": "3.8.3"
  }
 },
 "nbformat": 4,
 "nbformat_minor": 4
}
